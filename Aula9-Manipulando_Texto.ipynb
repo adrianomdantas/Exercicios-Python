{
 "cells": [
  {
   "cell_type": "code",
   "execution_count": 55,
   "metadata": {},
   "outputs": [
    {
     "name": "stdout",
     "output_type": "stream",
     "text": [
      "Curso em Video Python\n",
      "Curso\n",
      "Vide\n",
      "V\n",
      "VdoPto\n",
      "Python\n",
      "21\n",
      "3\n",
      "1\n",
      "3\n",
      "11\n",
      "-1\n",
      "True\n",
      "Curso em Video Android\n",
      "CURSO EM VIDEO PYTHON\n",
      "curso em video python\n",
      "Curso em video python\n",
      "Curso Em Video Python\n"
     ]
    }
   ],
   "source": [
    "frase = ('Curso em Video Python')\n",
    "print(frase)\n",
    "print(frase[:5])\n",
    "print(frase[9:13])\n",
    "print(frase[9])\n",
    "print(frase[9:21:2])\n",
    "print(frase[15:])\n",
    "print(len(frase))\n",
    "print(frase.count('o')) #contar numeros de letra 'o'\n",
    "print(frase.count('o',0,13)) #contar o numero da letra 'o' fatiado\n",
    "print(frase.upper().count('O'))\n",
    "print(frase.find('deo'))\n",
    "print(frase.find('android')) #quando retorna -1, significa que não existe \n",
    "print('Curso'in frase)\n",
    "print(frase.replace('Python','Android')) #trocar palavra mas não salvar\n",
    "#frase = frase.replace('Python','Android') mudar os dados na variavel\n",
    "print(frase.upper()) #escrever tudo em maiscula\n",
    "print(frase.lower()) #escrever tudo em minuscula\n",
    "print(frase.capitalize()) #escrever tudo em minuscula e a primeira letra em maiuscula\n",
    "print(frase.title()) #cada prieira letra em maiuscula"
   ]
  },
  {
   "cell_type": "code",
   "execution_count": 52,
   "metadata": {},
   "outputs": [
    {
     "name": "stdout",
     "output_type": "stream",
     "text": [
      "19\n",
      "   Aprenda Python  \n",
      "Aprenda Python\n",
      "   Aprenda Python\n",
      "Aprenda Python  \n",
      "['Curso', 'em', 'Video', 'Python']\n",
      "Curso-em-Video-Python\n"
     ]
    }
   ],
   "source": [
    "frasee = ('   Aprenda Python  ')\n",
    "lista = ['Curso','em','Video','Python']\n",
    "print(len(frasee))\n",
    "print(frasee)\n",
    "print(frasee.strip()) #remove os estaços no começo e final da frase\n",
    "print(frasee.rstrip()) #remove apenas os espaços da direita\n",
    "print(frasee.lstrip()) #remove apenas os espaços da esquerda\n",
    "print(frase.split()) #dividir uma string em lista\n",
    "print('-'.join(lista)) #juntar uma lista usando 0 -"
   ]
  }
 ],
 "metadata": {
  "kernelspec": {
   "display_name": "Python 3",
   "language": "python",
   "name": "python3"
  },
  "language_info": {
   "codemirror_mode": {
    "name": "ipython",
    "version": 3
   },
   "file_extension": ".py",
   "mimetype": "text/x-python",
   "name": "python",
   "nbconvert_exporter": "python",
   "pygments_lexer": "ipython3",
   "version": "3.8.3"
  }
 },
 "nbformat": 4,
 "nbformat_minor": 4
}

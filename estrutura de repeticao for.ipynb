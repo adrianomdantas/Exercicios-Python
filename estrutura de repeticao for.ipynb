{
 "cells": [
  {
   "cell_type": "code",
   "execution_count": 15,
   "metadata": {},
   "outputs": [
    {
     "name": "stdout",
     "output_type": "stream",
     "text": [
      "0\n",
      "2\n",
      "4\n",
      "fim\n"
     ]
    }
   ],
   "source": [
    "for cont in range (0, 6, 2):\n",
    "    print(cont)\n",
    "print('fim')\n"
   ]
  },
  {
   "cell_type": "code",
   "execution_count": 16,
   "metadata": {},
   "outputs": [
    {
     "name": "stdout",
     "output_type": "stream",
     "text": [
      "10\n",
      "9\n",
      "8\n",
      "7\n",
      "6\n",
      "5\n",
      "4\n",
      "3\n",
      "2\n",
      "1\n"
     ]
    }
   ],
   "source": [
    "for c in range (10, 0, -1):\n",
    "    print(c)"
   ]
  },
  {
   "cell_type": "code",
   "execution_count": 23,
   "metadata": {},
   "outputs": [
    {
     "name": "stdout",
     "output_type": "stream",
     "text": [
      "Digite um valor: 2\n",
      "Digite um valor: 2\n",
      "Digite um valor: 2\n",
      "Digite um valor: 2\n",
      "a somatoria dos numeros digitados 8\n"
     ]
    }
   ],
   "source": [
    "s = 0 \n",
    "for b in range (0, 4):\n",
    "    n = int(input('Digite um valor: ')) \n",
    "    s += n \n",
    "print('a somatoria dos numeros digitados {}'. format(s))"
   ]
  }
 ],
 "metadata": {
  "kernelspec": {
   "display_name": "Python 3",
   "language": "python",
   "name": "python3"
  },
  "language_info": {
   "codemirror_mode": {
    "name": "ipython",
    "version": 3
   },
   "file_extension": ".py",
   "mimetype": "text/x-python",
   "name": "python",
   "nbconvert_exporter": "python",
   "pygments_lexer": "ipython3",
   "version": "3.8.3"
  }
 },
 "nbformat": 4,
 "nbformat_minor": 4
}
